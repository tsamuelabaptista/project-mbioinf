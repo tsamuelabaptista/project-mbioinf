{
 "cells": [
  {
   "cell_type": "markdown",
   "metadata": {},
   "source": [
    "# Endolysin querying from NCBI protein database"
   ]
  },
  {
   "cell_type": "markdown",
   "metadata": {},
   "source": [
    "Script to create a fasta file with endolysin sequences queried from NCBI protein database, on 27/05/2024, using the search term \"endolysin[Protein Name] AND txid28883[Organism]\" retrieving 9495 entries."
   ]
  },
  {
   "cell_type": "code",
   "execution_count": 1,
   "metadata": {},
   "outputs": [],
   "source": [
    "# Import necessary packages\n",
    "from Bio import Entrez, SeqIO"
   ]
  },
  {
   "cell_type": "code",
   "execution_count": 2,
   "metadata": {},
   "outputs": [
    {
     "name": "stdout",
     "output_type": "stream",
     "text": [
      "9495 entries\n"
     ]
    }
   ],
   "source": [
    "# Set your email address (required by NCBI)\n",
    "Entrez.email = \"pg49130@alunos.uminho.pt\"\n",
    "\n",
    "# Define the search term including the taxid for bacteriophages\n",
    "search_term = \"endolysin[Protein Name] AND txid28883[Organism]\"\n",
    "\n",
    "# Perform the search\n",
    "handle = Entrez.esearch(db=\"protein\", term=search_term, retmax=100000)\n",
    "record = Entrez.read(handle)\n",
    "handle.close()\n",
    "\n",
    "# Get a list of protein IDs\n",
    "protein_ids = record[\"IdList\"]\n",
    "# Print the number of protein entries\n",
    "print(len(protein_ids), \"entries\")\n",
    "\n",
    "# Fetch protein information\n",
    "handle = Entrez.efetch(db=\"protein\", id=protein_ids, rettype=\"fasta\", retmode=\"text\")\n",
    "protein_records = handle.read()\n",
    "handle.close()"
   ]
  },
  {
   "cell_type": "code",
   "execution_count": null,
   "metadata": {},
   "outputs": [],
   "source": [
    "# Save the protein entries to a FASTA file\n",
    "output_file = \"endolysin-ncbi-raw.fasta\"\n",
    "with open(output_file, \"w\") as f:\n",
    "    f.write(protein_records)"
   ]
  }
 ],
 "metadata": {
  "kernelspec": {
   "display_name": "base",
   "language": "python",
   "name": "python3"
  },
  "language_info": {
   "codemirror_mode": {
    "name": "ipython",
    "version": 3
   },
   "file_extension": ".py",
   "mimetype": "text/x-python",
   "name": "python",
   "nbconvert_exporter": "python",
   "pygments_lexer": "ipython3",
   "version": "3.9.19"
  }
 },
 "nbformat": 4,
 "nbformat_minor": 2
}
