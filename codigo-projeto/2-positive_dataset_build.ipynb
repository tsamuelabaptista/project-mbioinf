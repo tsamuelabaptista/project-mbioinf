{
 "cells": [
  {
   "cell_type": "markdown",
   "metadata": {},
   "source": [
    "# Positive dataset build"
   ]
  },
  {
   "cell_type": "code",
   "execution_count": 1,
   "metadata": {},
   "outputs": [],
   "source": [
    "# Import necessary packages\n",
    "import pandas as pd"
   ]
  },
  {
   "cell_type": "code",
   "execution_count": 2,
   "metadata": {},
   "outputs": [
    {
     "name": "stdout",
     "output_type": "stream",
     "text": [
      "DataFrame dimensions: (9495, 3)\n"
     ]
    },
    {
     "data": {
      "text/html": [
       "<div>\n",
       "<style scoped>\n",
       "    .dataframe tbody tr th:only-of-type {\n",
       "        vertical-align: middle;\n",
       "    }\n",
       "\n",
       "    .dataframe tbody tr th {\n",
       "        vertical-align: top;\n",
       "    }\n",
       "\n",
       "    .dataframe thead th {\n",
       "        text-align: right;\n",
       "    }\n",
       "</style>\n",
       "<table border=\"1\" class=\"dataframe\">\n",
       "  <thead>\n",
       "    <tr style=\"text-align: right;\">\n",
       "      <th></th>\n",
       "      <th>accession_id</th>\n",
       "      <th>sequence</th>\n",
       "      <th>target</th>\n",
       "    </tr>\n",
       "  </thead>\n",
       "  <tbody>\n",
       "    <tr>\n",
       "      <th>0</th>\n",
       "      <td>XBA09022.1</td>\n",
       "      <td>MATSKNMKAFLDMLAYSEGTDNGRQKTNNHGYDVIVGGSLFTDYSD...</td>\n",
       "      <td>endolysin</td>\n",
       "    </tr>\n",
       "    <tr>\n",
       "      <th>1</th>\n",
       "      <td>XBA09021.1</td>\n",
       "      <td>MKLSQRGVETLGITDAVDISPYITTETTQNQFDALTSLATDIGIET...</td>\n",
       "      <td>endolysin</td>\n",
       "    </tr>\n",
       "    <tr>\n",
       "      <th>2</th>\n",
       "      <td>XAV38393.1</td>\n",
       "      <td>MFKFSQKSLNNLKGVKPQLVKVVERALQLSPVDFGVREGLRTVEQQ...</td>\n",
       "      <td>endolysin</td>\n",
       "    </tr>\n",
       "    <tr>\n",
       "      <th>3</th>\n",
       "      <td>XAV38170.1</td>\n",
       "      <td>MKITKDILITGTGCTTDRAIKWLDDVQAAMDKFHIESPRAIAAYLA...</td>\n",
       "      <td>endolysin</td>\n",
       "    </tr>\n",
       "    <tr>\n",
       "      <th>4</th>\n",
       "      <td>WWT34990.1</td>\n",
       "      <td>MVEIINKTVTRGVAGRRPGAVKGVVFHNTWGNSTAKQEANRLAAMN...</td>\n",
       "      <td>endolysin</td>\n",
       "    </tr>\n",
       "  </tbody>\n",
       "</table>\n",
       "</div>"
      ],
      "text/plain": [
       "  accession_id                                           sequence     target\n",
       "0   XBA09022.1  MATSKNMKAFLDMLAYSEGTDNGRQKTNNHGYDVIVGGSLFTDYSD...  endolysin\n",
       "1   XBA09021.1  MKLSQRGVETLGITDAVDISPYITTETTQNQFDALTSLATDIGIET...  endolysin\n",
       "2   XAV38393.1  MFKFSQKSLNNLKGVKPQLVKVVERALQLSPVDFGVREGLRTVEQQ...  endolysin\n",
       "3   XAV38170.1  MKITKDILITGTGCTTDRAIKWLDDVQAAMDKFHIESPRAIAAYLA...  endolysin\n",
       "4   WWT34990.1  MVEIINKTVTRGVAGRRPGAVKGVVFHNTWGNSTAKQEANRLAAMN...  endolysin"
      ]
     },
     "execution_count": 2,
     "metadata": {},
     "output_type": "execute_result"
    }
   ],
   "source": [
    "# Set a function to parse a fasta file\n",
    "def parse_fasta(fasta_file):\n",
    "    \"\"\"\n",
    "    Parses a FASTA file and returns a list of tuples containing accession IDs and sequences.\n",
    "    \n",
    "    Parameters:\n",
    "    fasta_file (str): Path to the FASTA file.\n",
    "    \n",
    "    Returns:\n",
    "    list: A list of tuples, where each tuple contains an accession ID and a sequence.\n",
    "    \"\"\"\n",
    "    sequences = []\n",
    "    with open(fasta_file, 'r') as file:\n",
    "        accession_id = None\n",
    "        sequence = \"\"\n",
    "        for line in file:\n",
    "            line = line.strip()\n",
    "            if line.startswith('>'):\n",
    "                if accession_id:\n",
    "                    sequences.append((accession_id, sequence))\n",
    "                accession_id = line[1:].split()[0]  # Get the first word after '>'\n",
    "                sequence = \"\"\n",
    "            else:\n",
    "                sequence += line\n",
    "        if accession_id:\n",
    "            sequences.append((accession_id, sequence))\n",
    "    return sequences\n",
    "\n",
    "# Set a function to create a DataFrame \n",
    "def create_dataframe(sequences):\n",
    "    \"\"\"\n",
    "    Creates a DataFrame from a list of sequences.\n",
    "    \n",
    "    Parameters:\n",
    "    sequences (list): A list of tuples, where each tuple contains an accession ID and a sequence.\n",
    "    \n",
    "    Returns:\n",
    "    DataFrame: A pandas DataFrame with columns 'accession id', 'sequence', and 'target'.\n",
    "    \"\"\"\n",
    "    df = pd.DataFrame(sequences, columns=['accession_id', 'sequence'])\n",
    "    df['target'] = 'endolysin'\n",
    "    return df\n",
    "\n",
    "# Specify the filename of your FASTA file\n",
    "fasta_file_name = 'endolysin_ncbi_raw.fasta'\n",
    "\n",
    "# Parse the FASTA file\n",
    "sequences = parse_fasta(fasta_file_name)\n",
    "\n",
    "# Create the DataFrame\n",
    "df = create_dataframe(sequences)\n",
    "\n",
    "# Display the dimensions of the DataFrame\n",
    "print(\"DataFrame dimensions:\", df.shape)\n",
    "\n",
    "# Display the head of the DataFrame\n",
    "df.head()\n"
   ]
  },
  {
   "cell_type": "code",
   "execution_count": 3,
   "metadata": {},
   "outputs": [
    {
     "name": "stdout",
     "output_type": "stream",
     "text": [
      "Number of duplicate accession IDs: 0\n",
      "Number of duplicate sequences: 2992\n"
     ]
    }
   ],
   "source": [
    "# Set a function to check for duplicates in the DataFrame\n",
    "def check_duplicates(df):\n",
    "    \"\"\"\n",
    "    Checks for duplicates in the DataFrame.\n",
    "    \n",
    "    Parameters:\n",
    "    df (DataFrame): The pandas DataFrame containing the data.\n",
    "    \n",
    "    Prints:\n",
    "    The number of duplicate accession IDs and sequences.\n",
    "    \"\"\"\n",
    "    # Check for duplicate accession IDs\n",
    "    dup_acc_ids = df.duplicated(subset='accession_id').sum()\n",
    "    print(f\"Number of duplicate accession IDs: {dup_acc_ids}\")\n",
    "    \n",
    "    # Check for duplicate sequences\n",
    "    dup_sequences = df.duplicated(subset='sequence').sum()\n",
    "    print(f\"Number of duplicate sequences: {dup_sequences}\")\n",
    "\n",
    "# Check for duplicates\n",
    "check_duplicates(df)"
   ]
  },
  {
   "cell_type": "code",
   "execution_count": 4,
   "metadata": {},
   "outputs": [
    {
     "name": "stdout",
     "output_type": "stream",
     "text": [
      "Cleaned DataFrame dimensions: (6503, 3)\n"
     ]
    },
    {
     "data": {
      "text/html": [
       "<div>\n",
       "<style scoped>\n",
       "    .dataframe tbody tr th:only-of-type {\n",
       "        vertical-align: middle;\n",
       "    }\n",
       "\n",
       "    .dataframe tbody tr th {\n",
       "        vertical-align: top;\n",
       "    }\n",
       "\n",
       "    .dataframe thead th {\n",
       "        text-align: right;\n",
       "    }\n",
       "</style>\n",
       "<table border=\"1\" class=\"dataframe\">\n",
       "  <thead>\n",
       "    <tr style=\"text-align: right;\">\n",
       "      <th></th>\n",
       "      <th>accession_id</th>\n",
       "      <th>sequence</th>\n",
       "      <th>target</th>\n",
       "    </tr>\n",
       "  </thead>\n",
       "  <tbody>\n",
       "    <tr>\n",
       "      <th>0</th>\n",
       "      <td>XBA09022.1</td>\n",
       "      <td>MATSKNMKAFLDMLAYSEGTDNGRQKTNNHGYDVIVGGSLFTDYSD...</td>\n",
       "      <td>endolysin</td>\n",
       "    </tr>\n",
       "    <tr>\n",
       "      <th>1</th>\n",
       "      <td>XBA09021.1</td>\n",
       "      <td>MKLSQRGVETLGITDAVDISPYITTETTQNQFDALTSLATDIGIET...</td>\n",
       "      <td>endolysin</td>\n",
       "    </tr>\n",
       "    <tr>\n",
       "      <th>2</th>\n",
       "      <td>XAV38393.1</td>\n",
       "      <td>MFKFSQKSLNNLKGVKPQLVKVVERALQLSPVDFGVREGLRTVEQQ...</td>\n",
       "      <td>endolysin</td>\n",
       "    </tr>\n",
       "    <tr>\n",
       "      <th>3</th>\n",
       "      <td>XAV38170.1</td>\n",
       "      <td>MKITKDILITGTGCTTDRAIKWLDDVQAAMDKFHIESPRAIAAYLA...</td>\n",
       "      <td>endolysin</td>\n",
       "    </tr>\n",
       "    <tr>\n",
       "      <th>4</th>\n",
       "      <td>WWT34990.1</td>\n",
       "      <td>MVEIINKTVTRGVAGRRPGAVKGVVFHNTWGNSTAKQEANRLAAMN...</td>\n",
       "      <td>endolysin</td>\n",
       "    </tr>\n",
       "  </tbody>\n",
       "</table>\n",
       "</div>"
      ],
      "text/plain": [
       "  accession_id                                           sequence     target\n",
       "0   XBA09022.1  MATSKNMKAFLDMLAYSEGTDNGRQKTNNHGYDVIVGGSLFTDYSD...  endolysin\n",
       "1   XBA09021.1  MKLSQRGVETLGITDAVDISPYITTETTQNQFDALTSLATDIGIET...  endolysin\n",
       "2   XAV38393.1  MFKFSQKSLNNLKGVKPQLVKVVERALQLSPVDFGVREGLRTVEQQ...  endolysin\n",
       "3   XAV38170.1  MKITKDILITGTGCTTDRAIKWLDDVQAAMDKFHIESPRAIAAYLA...  endolysin\n",
       "4   WWT34990.1  MVEIINKTVTRGVAGRRPGAVKGVVFHNTWGNSTAKQEANRLAAMN...  endolysin"
      ]
     },
     "execution_count": 4,
     "metadata": {},
     "output_type": "execute_result"
    }
   ],
   "source": [
    "# Set a function to remove duplicates from the DataFrame\n",
    "def remove_duplicates(df):\n",
    "    \"\"\"\n",
    "    Removes duplicate sequences from the DataFrame.\n",
    "    \n",
    "    Parameters:\n",
    "    df (DataFrame): The pandas DataFrame containing the data.\n",
    "    \n",
    "    Returns:\n",
    "    DataFrame: A DataFrame with duplicates removed.\n",
    "    \"\"\"\n",
    "    \n",
    "    # Remove duplicate sequences\n",
    "    df = df.drop_duplicates(subset='sequence')\n",
    "    \n",
    "    return df\n",
    "\n",
    "# Remove duplicates\n",
    "df_cleaned = remove_duplicates(df)\n",
    "\n",
    "# Display the dimensions of the DataFrame after removing duplicates\n",
    "print(\"Cleaned DataFrame dimensions:\", df_cleaned.shape)\n",
    "\n",
    "# Display the head of the cleaned DataFrame\n",
    "df_cleaned.head()"
   ]
  },
  {
   "cell_type": "code",
   "execution_count": 5,
   "metadata": {},
   "outputs": [],
   "source": [
    "# Save the DataFrame to a fasta file\n",
    "\n",
    "# Define a function to format DataFrame rows into FASTA format\n",
    "def format_fasta(row):\n",
    "    return f\">{row['accession_id']}\\n{row['sequence']}\\n\"\n",
    "\n",
    "# Apply the function to each row and join the results\n",
    "fasta_data = ''.join(df_cleaned.apply(format_fasta, axis=1))\n",
    "\n",
    "# Write the formatted data to a file\n",
    "with open('positive_dataset.fasta', 'w') as f:\n",
    "    f.write(fasta_data)"
   ]
  },
  {
   "cell_type": "code",
   "execution_count": 40,
   "metadata": {},
   "outputs": [],
   "source": [
    "# Save the DataFrame to a CSV file if needed\n",
    "# df_cleaned.to_csv('positive_dataset.csv', index=False)"
   ]
  }
 ],
 "metadata": {
  "kernelspec": {
   "display_name": "Python 3",
   "language": "python",
   "name": "python3"
  },
  "language_info": {
   "codemirror_mode": {
    "name": "ipython",
    "version": 3
   },
   "file_extension": ".py",
   "mimetype": "text/x-python",
   "name": "python",
   "nbconvert_exporter": "python",
   "pygments_lexer": "ipython3",
   "version": "3.9.19"
  }
 },
 "nbformat": 4,
 "nbformat_minor": 2
}
